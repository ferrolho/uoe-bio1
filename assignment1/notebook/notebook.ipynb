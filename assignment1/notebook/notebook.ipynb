{
 "cells": [
  {
   "cell_type": "code",
   "execution_count": 1,
   "metadata": {
    "collapsed": false
   },
   "outputs": [],
   "source": [
    "# import Biopython functions\n",
    "from Bio import SeqIO"
   ]
  },
  {
   "cell_type": "markdown",
   "metadata": {},
   "source": [
    "# Loading sequences"
   ]
  },
  {
   "cell_type": "code",
   "execution_count": 2,
   "metadata": {
    "collapsed": false
   },
   "outputs": [],
   "source": [
    "# load the whole transcipt\n",
    "transcript = next(SeqIO.parse(\"ncbi/complete.fasta\", \"fasta\"))\n",
    "\n",
    "# load the coding sequence\n",
    "coding = next(SeqIO.parse(\"ncbi/coding.fasta\", \"fasta\"))"
   ]
  },
  {
   "cell_type": "code",
   "execution_count": 3,
   "metadata": {
    "collapsed": false,
    "scrolled": false
   },
   "outputs": [
    {
     "name": "stdout",
     "output_type": "stream",
     "text": [
      "Lenth of gene: 169451\n",
      "Lenth of coding sequence: 9429\n"
     ]
    }
   ],
   "source": [
    "print(\"Lenth of gene:\", len(transcript.seq))\n",
    "print(\"Lenth of coding sequence:\", len(coding.seq))"
   ]
  },
  {
   "cell_type": "markdown",
   "metadata": {},
   "source": [
    "# Get cDNA\n",
    "**cDNA** - *complementary* DNA"
   ]
  },
  {
   "cell_type": "code",
   "execution_count": 4,
   "metadata": {
    "collapsed": false
   },
   "outputs": [
    {
     "data": {
      "text/plain": [
       "Seq('AACGACACACTCCGTCTTGGACGCCCCCGTCCCCGCCCGACCAAGGGACCGGTC...AGT', SingleLetterAlphabet())"
      ]
     },
     "execution_count": 4,
     "metadata": {},
     "output_type": "execute_result"
    }
   ],
   "source": [
    "cDna = transcript.seq.complement()\n",
    "cDna"
   ]
  },
  {
   "cell_type": "code",
   "execution_count": 5,
   "metadata": {
    "collapsed": false
   },
   "outputs": [],
   "source": [
    "#save -f output/cDNA str(_)"
   ]
  },
  {
   "cell_type": "markdown",
   "metadata": {},
   "source": [
    "# Transcription and translation"
   ]
  },
  {
   "cell_type": "code",
   "execution_count": 6,
   "metadata": {
    "collapsed": false,
    "scrolled": true
   },
   "outputs": [
    {
     "data": {
      "text/plain": [
       "Seq('AUGGCGACCCUGGAAAAGCUGAUGAAGGCCUUCGAGUCCCUCAAGUCCUUCCAG...UGA', RNAAlphabet())"
      ]
     },
     "execution_count": 6,
     "metadata": {},
     "output_type": "execute_result"
    }
   ],
   "source": [
    "mRna = coding.seq.transcribe()\n",
    "mRna"
   ]
  },
  {
   "cell_type": "code",
   "execution_count": 7,
   "metadata": {
    "collapsed": true
   },
   "outputs": [],
   "source": [
    "#save -f output/mRNA str(_)"
   ]
  },
  {
   "cell_type": "code",
   "execution_count": 8,
   "metadata": {
    "collapsed": false,
    "scrolled": true
   },
   "outputs": [
    {
     "data": {
      "text/plain": [
       "Seq('MATLEKLMKAFESLKSFQQQQQQQQQQQQQQQQQQQQQPPPPPPPPPPPQLPQP...TC*', HasStopCodon(ExtendedIUPACProtein(), '*'))"
      ]
     },
     "execution_count": 8,
     "metadata": {},
     "output_type": "execute_result"
    }
   ],
   "source": [
    "translation = coding.seq.translate()\n",
    "translation"
   ]
  },
  {
   "cell_type": "code",
   "execution_count": 9,
   "metadata": {
    "collapsed": true
   },
   "outputs": [],
   "source": [
    "#save -f output/translation str(_)"
   ]
  },
  {
   "cell_type": "markdown",
   "metadata": {},
   "source": [
    "# Codons being used"
   ]
  },
  {
   "cell_type": "code",
   "execution_count": 10,
   "metadata": {
    "collapsed": false
   },
   "outputs": [
    {
     "name": "stdout",
     "output_type": "stream",
     "text": [
      "62 codons have been seen:\n",
      "['AAA', 'AAC', 'AAG', 'AAU', 'ACA', 'ACC', 'ACG', 'ACU', 'AGA', 'AGC', 'AGG', 'AGU', 'AUA', 'AUC', 'AUG', 'AUU', 'CAA', 'CAC', 'CAG', 'CAU', 'CCA', 'CCC', 'CCG', 'CCU', 'CGA', 'CGC', 'CGG', 'CGU', 'CUA', 'CUC', 'CUG', 'CUU', 'GAA', 'GAC', 'GAG', 'GAU', 'GCA', 'GCC', 'GCG', 'GCU', 'GGA', 'GGC', 'GGG', 'GGU', 'GUA', 'GUC', 'GUG', 'GUU', 'UAC', 'UAU', 'UCA', 'UCC', 'UCG', 'UCU', 'UGA', 'UGC', 'UGG', 'UGU', 'UUA', 'UUC', 'UUG', 'UUU']\n"
     ]
    }
   ],
   "source": [
    "seen = set()\n",
    "\n",
    "for i in range(0, len(mRna) - 2, 3):\n",
    "    codon = str(mRna[i:i+3])\n",
    "\n",
    "    if codon not in seen:\n",
    "        seen.add(codon)\n",
    "\n",
    "print(len(seen), 'codons have been seen:')\n",
    "print(sorted(seen))"
   ]
  },
  {
   "cell_type": "markdown",
   "metadata": {},
   "source": [
    "# Amino acids histogram"
   ]
  },
  {
   "cell_type": "code",
   "execution_count": 11,
   "metadata": {
    "collapsed": false,
    "scrolled": false
   },
   "outputs": [
    {
     "data": {
      "image/png": "[encoded data removed]",
      "text/plain": [
       "<matplotlib.figure.Figure at 0x7f1683e15128>"
      ]
     },
     "metadata": {},
     "output_type": "display_data"
    },
    {
     "name": "stdout",
     "output_type": "stream",
     "text": [
      "Counter({'L': 418, 'S': 306, 'A': 236, 'V': 232, 'E': 203, 'P': 188, 'Q': 180, 'T': 170, 'R': 154, 'I': 149, 'D': 139, 'G': 139, 'K': 124, 'F': 95, 'N': 90, 'H': 89, 'C': 70, 'M': 66, 'Y': 62, 'W': 32, '*': 1})\n"
     ]
    }
   ],
   "source": [
    "import matplotlib.pyplot as plt\n",
    "import numpy as np\n",
    "from collections import Counter\n",
    "\n",
    "# generate histogram\n",
    "aa_hist = Counter(translation)\n",
    "counts = aa_hist.values()\n",
    "aas = aa_hist.keys()\n",
    "\n",
    "# graph data\n",
    "bar_x_locations = np.arange(len(counts))\n",
    "plt.bar(bar_x_locations, counts, align = 'center')\n",
    "plt.xticks(bar_x_locations, aas)\n",
    "\n",
    "plt.title('Histogram of the \\'huntingtin\\' protein amino acids')\n",
    "plt.xlabel('Amino acid')\n",
    "plt.ylabel('Frequency')\n",
    "\n",
    "plt.grid()\n",
    "plt.show()\n",
    "\n",
    "print(aa_hist)"
   ]
  },
  {
   "cell_type": "markdown",
   "metadata": {},
   "source": [
    "# Usage of Leucine amino acids"
   ]
  },
  {
   "cell_type": "code",
   "execution_count": 12,
   "metadata": {
    "collapsed": false,
    "scrolled": true
   },
   "outputs": [
    {
     "name": "stdout",
     "output_type": "stream",
     "text": [
      "UUA: 70\n",
      "UUG: 156\n",
      "CUU: 168\n",
      "CUC: 178\n",
      "CUA: 68\n",
      "CUG: 295\n"
     ]
    }
   ],
   "source": [
    "leucineCodons = ['UUA', 'UUG', 'CUU', 'CUC', 'CUA', 'CUG']\n",
    "\n",
    "for codon in leucineCodons:\n",
    "    print(codon, mRna.count(codon), sep=': ')"
   ]
  }
 ],
 "metadata": {
  "kernelspec": {
   "display_name": "Python 3",
   "language": "python",
   "name": "python3"
  },
  "language_info": {
   "codemirror_mode": {
    "name": "ipython",
    "version": 3
   },
   "file_extension": ".py",
   "mimetype": "text/x-python",
   "name": "python",
   "nbconvert_exporter": "python",
   "pygments_lexer": "ipython3",
   "version": "3.5.2"
  }
 },
 "nbformat": 4,
 "nbformat_minor": 0
}
