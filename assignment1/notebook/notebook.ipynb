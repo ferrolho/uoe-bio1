{
 "cells": [
  {
   "cell_type": "code",
   "execution_count": null,
   "metadata": {
    "collapsed": false
   },
   "outputs": [],
   "source": [
    "# import Biopython functions\n",
    "from Bio import SeqIO"
   ]
  },
  {
   "cell_type": "markdown",
   "metadata": {},
   "source": [
    "# Loading sequences"
   ]
  },
  {
   "cell_type": "code",
   "execution_count": null,
   "metadata": {
    "collapsed": false
   },
   "outputs": [],
   "source": [
    "# load the whole transcipt\n",
    "transcript = next(SeqIO.parse(\"ncbi/complete.fasta\", \"fasta\"))\n",
    "\n",
    "# load the coding sequence\n",
    "coding = next(SeqIO.parse(\"ncbi/coding.fasta\", \"fasta\"))"
   ]
  },
  {
   "cell_type": "code",
   "execution_count": null,
   "metadata": {
    "collapsed": false,
    "scrolled": false
   },
   "outputs": [],
   "source": [
    "print(\"Lenth of gene:\", len(transcript.seq))\n",
    "print(\"Lenth of coding sequence:\", len(coding.seq))"
   ]
  },
  {
   "cell_type": "markdown",
   "metadata": {},
   "source": [
    "# Get cDNA\n",
    "**cDNA** - *complementary* DNA"
   ]
  },
  {
   "cell_type": "code",
   "execution_count": null,
   "metadata": {
    "collapsed": false
   },
   "outputs": [],
   "source": [
    "cDna = transcript.seq.complement()\n",
    "cDna"
   ]
  },
  {
   "cell_type": "code",
   "execution_count": null,
   "metadata": {
    "collapsed": false
   },
   "outputs": [],
   "source": [
    "#save -f output/cDNA str(_)"
   ]
  },
  {
   "cell_type": "markdown",
   "metadata": {},
   "source": [
    "# Transcription and translation"
   ]
  },
  {
   "cell_type": "code",
   "execution_count": null,
   "metadata": {
    "collapsed": false,
    "scrolled": true
   },
   "outputs": [],
   "source": [
    "mRna = coding.seq.transcribe()\n",
    "mRna"
   ]
  },
  {
   "cell_type": "code",
   "execution_count": null,
   "metadata": {
    "collapsed": true
   },
   "outputs": [],
   "source": [
    "#save -f output/mRNA str(_)"
   ]
  },
  {
   "cell_type": "code",
   "execution_count": null,
   "metadata": {
    "collapsed": false,
    "scrolled": true
   },
   "outputs": [],
   "source": [
    "translation = coding.seq.translate()\n",
    "translation"
   ]
  },
  {
   "cell_type": "code",
   "execution_count": null,
   "metadata": {
    "collapsed": true
   },
   "outputs": [],
   "source": [
    "#save -f output/translation str(_)"
   ]
  },
  {
   "cell_type": "markdown",
   "metadata": {},
   "source": [
    "# Codons being used"
   ]
  },
  {
   "cell_type": "code",
   "execution_count": null,
   "metadata": {
    "collapsed": false
   },
   "outputs": [],
   "source": [
    "seen = set()\n",
    "\n",
    "for i in range(0, len(mRna) - 2, 3):\n",
    "    codon = str(mRna[i:i+3])\n",
    "\n",
    "    if codon not in seen:\n",
    "        seen.add(codon)\n",
    "\n",
    "print(len(seen), 'codons have been seen:')\n",
    "print(sorted(seen))"
   ]
  },
  {
   "cell_type": "markdown",
   "metadata": {},
   "source": [
    "# Amino acids histogram"
   ]
  },
  {
   "cell_type": "code",
   "execution_count": null,
   "metadata": {
    "collapsed": false,
    "scrolled": false
   },
   "outputs": [],
   "source": [
    "import matplotlib.pyplot as plt\n",
    "import numpy as np\n",
    "from collections import Counter\n",
    "\n",
    "# generate histogram\n",
    "aa_hist = Counter(translation)\n",
    "counts = aa_hist.values()\n",
    "aas = aa_hist.keys()\n",
    "\n",
    "# graph data\n",
    "bar_x_locations = np.arange(len(counts))\n",
    "plt.bar(bar_x_locations, counts, align = 'center')\n",
    "plt.xticks(bar_x_locations, aas)\n",
    "\n",
    "plt.title('Histogram of the \\'huntingtin\\' protein amino acids')\n",
    "plt.xlabel('Amino acid')\n",
    "plt.ylabel('Frequency')\n",
    "\n",
    "plt.grid()\n",
    "plt.show()\n",
    "\n",
    "print(aa_hist)"
   ]
  },
  {
   "cell_type": "markdown",
   "metadata": {},
   "source": [
    "# Usage of Leucine amino acids"
   ]
  },
  {
   "cell_type": "code",
   "execution_count": null,
   "metadata": {
    "collapsed": false,
    "scrolled": true
   },
   "outputs": [],
   "source": [
    "leucineCodons = ['UUA', 'UUG', 'CUU', 'CUC', 'CUA', 'CUG']\n",
    "\n",
    "for codon in leucineCodons:\n",
    "    print(codon, mRna.count(codon), sep=': ')"
   ]
  },
  {
   "cell_type": "markdown",
   "metadata": {},
   "source": [
    "# Open Reading Frames (ORFs)"
   ]
  },
  {
   "cell_type": "markdown",
   "metadata": {},
   "source": [
    "How many start codons are there? Where are they?"
   ]
  },
  {
   "cell_type": "code",
   "execution_count": null,
   "metadata": {
    "collapsed": false
   },
   "outputs": [],
   "source": [
    "print(transcript.seq.count('ATG'))"
   ]
  },
  {
   "cell_type": "code",
   "execution_count": null,
   "metadata": {
    "collapsed": false
   },
   "outputs": [],
   "source": [
    "print(transcript.seq.count('ATG'))"
   ]
  },
  {
   "cell_type": "code",
   "execution_count": null,
   "metadata": {
    "collapsed": false
   },
   "outputs": [],
   "source": [
    "seq = transcript.seq\n",
    "i = 0\n",
    "while seq[i:].find('ATG')>-1:\n",
    "    j = seq[i:].find('ATG')\n",
    "    i = i + j + 3\n",
    "    print(i - 3)\n"
   ]
  },
  {
   "cell_type": "markdown",
   "metadata": {},
   "source": [
    "This is a list of possible coding region starting points."
   ]
  },
  {
   "cell_type": "markdown",
   "metadata": {},
   "source": [
    "## Alternative strategy\n",
    "\n",
    "Each true ORF should end with a stop codon. So we can translate the sequence using all three different reading farmes, and search for start-> stop codon sequences."
   ]
  },
  {
   "cell_type": "code",
   "execution_count": null,
   "metadata": {
    "collapsed": false
   },
   "outputs": [],
   "source": [
    "f1 = transcript.seq.translate().split('*')\n",
    "f2 = transcript.seq[1:].translate().split('*')\n",
    "f3 = transcript.seq[2:].translate().split('*')\n",
    "print(f1)\n"
   ]
  },
  {
   "cell_type": "markdown",
   "metadata": {},
   "source": [
    "These are all candidate coding sequences ending with a stop codon. Now check if there is a start codon. Since we have now got amino acis sequences, we should search for the amino acid equivalent of 'ATG', which is 'M' (Methionine)"
   ]
  },
  {
   "cell_type": "code",
   "execution_count": null,
   "metadata": {
    "collapsed": false
   },
   "outputs": [],
   "source": [
    "for i,f in enumerate((f1,f2,f3)):\n",
    "    print(\"Reading frame: \"+str(i+1))\n",
    "    for p in f:\n",
    "        M = p.find('M')\n",
    "        if M>=0:\n",
    "            print((len(p)-M+1)*3)"
   ]
  },
  {
   "cell_type": "markdown",
   "metadata": {},
   "source": [
    "These are the lengths of all possible open reading frames. There are many different candidates. Often the longest is the correct one, here that is the case too.\n",
    "\n",
    "Note: here we know the 5' -> 3' direction (can you see why?), but generally both directions should be searched."
   ]
  },
  {
   "cell_type": "markdown",
   "metadata": {},
   "source": [
    "## Putting everything together"
   ]
  },
  {
   "cell_type": "code",
   "execution_count": null,
   "metadata": {
    "collapsed": false
   },
   "outputs": [],
   "source": [
    "# a simple ORF finder\n",
    "\n",
    "seq = transcript.seq\n",
    "\n",
    "# search for at least 100 amino acid length:\n",
    "min_len = 100\n",
    "\n",
    "for strand, nuc in [(+1, seq), (-1, seq.reverse_complement())]:\n",
    "    for frame in range(3):\n",
    "        pos = 0\n",
    "        for prot in nuc[frame:].translate().split('*'):\n",
    "            if len(prot) >= min_len:\n",
    "                start = prot.find(\"M\")\n",
    "                print(\"%s...%s - fragment length: %i, strand: %i, frame: %i, pos: %i, start: %i, coding length %i, has start %s\" % (prot[start:start+10], prot[-3:], (len(prot)-start+1)*3, strand, frame, pos*3, (max(0,start)+pos+frame)*3+1, (len(prot[start:])+1)*3, start>-1))\n",
    "                pos = pos + len(prot)+1"
   ]
  },
  {
   "cell_type": "code",
   "execution_count": null,
   "metadata": {
    "collapsed": true
   },
   "outputs": [],
   "source": []
  }
 ],
 "metadata": {
  "kernelspec": {
   "display_name": "Python 3",
   "language": "python",
   "name": "python3"
  },
  "language_info": {
   "codemirror_mode": {
    "name": "ipython",
    "version": 3
   },
   "file_extension": ".py",
   "mimetype": "text/x-python",
   "name": "python",
   "nbconvert_exporter": "python",
   "pygments_lexer": "ipython3",
   "version": "3.5.2"
  }
 },
 "nbformat": 4,
 "nbformat_minor": 0
}
