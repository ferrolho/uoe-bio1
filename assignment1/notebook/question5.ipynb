{
 "cells": [
  {
   "cell_type": "code",
   "execution_count": null,
   "metadata": {
    "collapsed": true
   },
   "outputs": [],
   "source": [
    "from Bio.Seq import Seq\n",
    "from Bio.Alphabet import generic_dna, generic_protein"
   ]
  },
  {
   "cell_type": "code",
   "execution_count": null,
   "metadata": {
    "collapsed": false
   },
   "outputs": [],
   "source": [
    "codingSeq1 = Seq('CTGAAGCGGGAGGCTGAGACGCTGCGGGAGCGGGAGGGC', generic_dna)\n",
    "codingSeq2 = Seq('CTCAAGCGTGAGGCCGAGACCCTACGGGAGCGGGAAGGC', generic_dna)\n",
    "codingSeq3 = Seq('GAAGAGCTGAAGAGAGAGGCTGACAATTTAAAGGACAGA', generic_dna)\n",
    "codingSeq4 = Seq('AACGAGGAGCTCAAGCGAGAAGCTGATACGCTGAAGGAC', generic_dna)"
   ]
  },
  {
   "cell_type": "code",
   "execution_count": null,
   "metadata": {
    "collapsed": false
   },
   "outputs": [],
   "source": [
    "protein1 = codingSeq1.translate()\n",
    "protein2 = codingSeq2.translate()\n",
    "protein3 = codingSeq3.translate()\n",
    "protein4 = codingSeq4.translate()\n",
    "\n",
    "print(protein1)\n",
    "print(protein2)\n",
    "print(protein3)\n",
    "print(protein4)"
   ]
  },
  {
   "cell_type": "code",
   "execution_count": null,
   "metadata": {
    "collapsed": true
   },
   "outputs": [],
   "source": []
  }
 ],
 "metadata": {
  "kernelspec": {
   "display_name": "Python 3",
   "language": "python",
   "name": "python3"
  },
  "language_info": {
   "codemirror_mode": {
    "name": "ipython",
    "version": 3
   },
   "file_extension": ".py",
   "mimetype": "text/x-python",
   "name": "python",
   "nbconvert_exporter": "python",
   "pygments_lexer": "ipython3",
   "version": "3.5.2"
  }
 },
 "nbformat": 4,
 "nbformat_minor": 1
}
